{
    "cells": [
        {
            "cell_type": "markdown",
            "metadata": {},
            "source": [
                "# Explore here"
            ]
        },
        {
            "cell_type": "code",
            "execution_count": 11,
            "metadata": {},
            "outputs": [],
            "source": [
                "import pandas as pd\n",
                "import re\n",
                "import unidecode\n",
                "from sklearn.model_selection import train_test_split\n",
                "from sklearn.feature_extraction.text import CountVectorizer, TfidfVectorizer\n",
                "import pickle"
            ]
        },
        {
            "cell_type": "markdown",
            "metadata": {},
            "source": [
                "### --- Carga y Exploración Inicial de Datos ---"
            ]
        },
        {
            "cell_type": "code",
            "execution_count": 12,
            "metadata": {},
            "outputs": [
                {
                    "name": "stdout",
                    "output_type": "stream",
                    "text": [
                        "Shape of the dataset: (891, 3)\n",
                        "<class 'pandas.core.frame.DataFrame'>\n",
                        "RangeIndex: 891 entries, 0 to 890\n",
                        "Data columns (total 3 columns):\n",
                        " #   Column        Non-Null Count  Dtype \n",
                        "---  ------        --------------  ----- \n",
                        " 0   package_name  891 non-null    object\n",
                        " 1   review        891 non-null    object\n",
                        " 2   polarity      891 non-null    int64 \n",
                        "dtypes: int64(1), object(2)\n",
                        "memory usage: 21.0+ KB\n",
                        "Data info: None\n",
                        "Value counts of polarity: polarity\n",
                        "0    584\n",
                        "1    307\n",
                        "Name: count, dtype: int64\n",
                        "Number of duplicated rows: 0\n"
                    ]
                }
            ],
            "source": [
                "data = pd.read_csv('../data/raw/playstore_reviews.csv')\n",
                "print(\"Shape of the dataset:\", data.shape)\n",
                "print(\"Data info:\", data.info())\n",
                "print(\"Value counts of polarity:\", data['polarity'].value_counts())\n",
                "print(\"Number of duplicated rows:\", data.duplicated().sum())"
            ]
        },
        {
            "cell_type": "markdown",
            "metadata": {},
            "source": [
                "### --- Limpieza de Datos ---"
            ]
        },
        {
            "cell_type": "code",
            "execution_count": 13,
            "metadata": {},
            "outputs": [
                {
                    "data": {
                        "application/vnd.microsoft.datawrangler.viewer.v0+json": {
                            "columns": [
                                {
                                    "name": "index",
                                    "rawType": "int64",
                                    "type": "integer"
                                },
                                {
                                    "name": "review",
                                    "rawType": "object",
                                    "type": "string"
                                },
                                {
                                    "name": "polarity",
                                    "rawType": "int64",
                                    "type": "integer"
                                }
                            ],
                            "conversionMethod": "pd.DataFrame",
                            "ref": "2c2ef52d-71b2-4d22-b739-19f29cfab173",
                            "rows": [
                                [
                                    "0",
                                    "privacy at least put some option appear offline i mean for some people like me its a big pressure to be seen online like you need to response on every message or else you be called seenzone only if only i wanna do on facebook is to read on my newsfeed and just wanna response on message i want to pls reconsidered my review i tried to turn off chat but still can see me as online",
                                    "0"
                                ],
                                [
                                    "1",
                                    "messenger issues ever since the last update initial received messages dont get pushed to the messenger app and you dont get notification in the facebook app or messenger app you open the facebook app and happen to see you have a message you have to click the icon and it opens messenger subsequent messages go through messenger app unless you close the chat head then you start over with no notification and having to go through the facebook app",
                                    "0"
                                ],
                                [
                                    "2",
                                    "profile any time my wife or anybody has more than one post and i view them it would take me to there profile so that i can view them all at once now when i try to view them it tells me that the page that i requested is not available ive restarted my phone i even cleard the cache and ive uninstalled and reinstalled the app and it is still doing it please fix it thank you",
                                    "0"
                                ],
                                [
                                    "3",
                                    "the new features suck for those of us who dont have a working back button can you guys make the videos able to be slid to the left to exit the video as i have to force close facebook to exit",
                                    "0"
                                ],
                                [
                                    "4",
                                    "forced reload on uploading pic on replying comment last night i tried to reply a comment by uploading a photo from my phone when i press on the button to select photos the app automatically goes back to the main page on other occasions i could enter to my gallery to select my image but as soon as i selected an image and press done the program again forced reload and suddenly go back to the main page please fix this and i will change my rating thank you",
                                    "0"
                                ],
                                [
                                    "5",
                                    "idk i cant edit my posts things such as my profile picture when i edit it it becomes grey and says that it is no longer available please fix i have an htc desire will rate stars shown fixed d",
                                    "0"
                                ],
                                [
                                    "6",
                                    "major flaws constant updates and always getting not installed messages i can use it for awhile and then its no longer installed none of my other apps do this",
                                    "0"
                                ],
                                [
                                    "7",
                                    "video issues since i was forced into this update the videos play with a black box in the middle of them i edited a photo and its grayed out and stays at the top of my news feeds and my timeline it wont even let me delete it if i could give a zero star i would just like ever update something is always not working if its not broke why fix it",
                                    "0"
                                ],
                                [
                                    "8",
                                    "this update completely destroyed my facebook it loads to the status screen but once i try click anything at all or scroll the app goes to my home screen it doesnt even say force close it just does it so i load it again and finally begin scrolling but not even scrolls later the app closes this never happened before i updated fb",
                                    "0"
                                ],
                                [
                                    "9",
                                    "posting issues for the last week theres been a ghost post at the top of all my feeds from when i uploaded a photo closing the app fully has not fixed it and it doesnt happen on any other platform trying an uninstall to fix it",
                                    "0"
                                ],
                                [
                                    "10",
                                    "what the heck cant get status updates to be in chronological orderhalf of my comments dont postit worked fine before the last updatekeeps kicking me out of the app for no reason wont let me tag people without their name being all jumbled if i edit a post it shows the unedited version at the top of my feed im seconds away from uninstalling",
                                    "0"
                                ],
                                [
                                    "11",
                                    "its suck any time when i want to see something error will come could not open check your internet satting else i am using all other applications and other things on net hance i am using g network realy very suck",
                                    "0"
                                ],
                                [
                                    "12",
                                    "connection issues everytime i try and click on a link or profile i keep getting can not refresh it does this whether its on wifi lte g so im finding myself having to continuously close app from multitasking and re load it periodically",
                                    "0"
                                ],
                                [
                                    "13",
                                    "external links are not working after updated to latest version could not able to open any links on facebook its says connect to network after some time plz check your network connection same time my connection is g network is at full speed plz fix this issue asap thanks",
                                    "0"
                                ],
                                [
                                    "14",
                                    "fix this please ive tried editing two of my profile pictures in the past month and each time i do it doesnt post it but it also doesnt go away it fades out the picture and its always at the top of my time line now i have one from december th and the second one from tonight at the top of my time line and it wont let me delete them or do anything about it and its really buggin me please fix this",
                                    "0"
                                ],
                                [
                                    "15",
                                    "buggy when i edit a post through the mobile app that post freezes and even restarting the phone doesnt resolve unfreeze this doesnt happen via the desktop app on my pc not did it happen with previous android app version",
                                    "0"
                                ],
                                [
                                    "16",
                                    "connection issues app always says cant refresh now try later which in particular has to do with the net but my wifi works well enough i can even play online games i can refresh my feed at ig and twitter so why cant i refresh my fb feed fix it please",
                                    "0"
                                ],
                                [
                                    "17",
                                    "i cant get back on facebook its my email thats wrong or my password no matter what i do it just sucks because i really want to talk to my grandchildren thats the only way i can see or hear from them most of the time",
                                    "0"
                                ],
                                [
                                    "18",
                                    "cant connect right now when trying to open links in the facebook browser i receive a cant connect right now error message other items on my news feed continue to load",
                                    "0"
                                ],
                                [
                                    "19",
                                    "error i cannot edit my post with pictures the moment i do it will not change after save and it appears like when ur uploading but not yet done post in news feed and still there until i did reinstall the app this still happens even",
                                    "0"
                                ],
                                [
                                    "20",
                                    "whenever i post an update and then try to edit it when i hit save it tells me the post is no longer available and may have been removed yet the original post is still on my pageplease fix issue",
                                    "0"
                                ],
                                [
                                    "21",
                                    "keeps updating updates all the time slows my phone as its doing it to a crawl installs for like minutes and the updates never produce anything different or anything of use the only app on my phone that i have issues with",
                                    "0"
                                ],
                                [
                                    "22",
                                    "wont load everytime i try to use facebook well lately it says trouble loading in every aspect its been doing this for days ive tried restarting my phone closing the app it doesnt work",
                                    "0"
                                ],
                                [
                                    "23",
                                    "i wish posts popped up in the order they were posted and not get bumped up to the top every time someone comments on it i end up seeing the same ones over and over even though they are old and missing newer ones",
                                    "0"
                                ],
                                [
                                    "24",
                                    "buggy reinstall several times issues editing uploaded photo from news feed post only editable via image caption then image is greyed out on news feed like its pending photo upload wont go away also cant upload photo from phone gallery share to albums have to open fb upload photo select from gallery to add to album",
                                    "0"
                                ],
                                [
                                    "25",
                                    "cant install error code have samsung galaxy note edge had issues and couldnt update so i uninstalled the app and now i cant reinstall it total bs",
                                    "0"
                                ],
                                [
                                    "26",
                                    "not supported my phon galaxy core i have been use face book last one year resantly i have a problam so i will create a new account now that is in a same problam any time asking a conformation code what s going on plz answer me plz help me now what i do sent the anwer my email",
                                    "0"
                                ],
                                [
                                    "27",
                                    "doesnt work of the time doesnt update my news feed says cannot connect to internet the internet on my phone works just fine i can uninstall and reinstall and it fixes the issue for a few hours then it starts saying cannot connect to internet",
                                    "0"
                                ],
                                [
                                    "28",
                                    "you should fix this it doesnt work anymore i dont know what to do because everytime i open this app it automatically closes and a pop up message says unfortunately facebook has stopped",
                                    "0"
                                ],
                                [
                                    "29",
                                    "doesnt let me click into anything always tells me to check my connection while there is literally nothing wrong with my connection i can scroll through my timeline i just cant click into anything since i updated missing my old version smh",
                                    "0"
                                ],
                                [
                                    "30",
                                    "doesnt work every time i try to sign up it says couldnt processes registration it did the same thing on my android tablet and my doogee x cell phone please fix and i will rate stars",
                                    "0"
                                ],
                                [
                                    "31",
                                    "showing old news why is it showing that someone responded to my comment a week ago im not getting any crashing but its showing stuff from a week ago on top of my news feed",
                                    "0"
                                ],
                                [
                                    "32",
                                    "i have had to uninstall this app twice this week because whenever i try to edit a post the post doesnt edit and just stays gray and stuck in the loading process forever my ocd cant handle that",
                                    "0"
                                ],
                                [
                                    "33",
                                    "profile issues samsung galaxy s active so every time i post a pic on fb it says not available and i cant even edit it it shows some gray part on top plzz fix it i would of rated a but since this happened i rated",
                                    "0"
                                ],
                                [
                                    "34",
                                    "camera roll please can you stop the camera roll popping up at top of page whenever it does i cant use the app or my phone for a few mins doing my nut in",
                                    "0"
                                ],
                                [
                                    "35",
                                    "not good its previous version is much good than that i cant text directly with current version please add the inbuilt messenger again in the app",
                                    "0"
                                ],
                                [
                                    "36",
                                    "update uninstalls everytime i try to update it uninstalls the app what i want to know is if this is using my data each time i update and then have to reinstall driving me crazy please fix",
                                    "0"
                                ],
                                [
                                    "37",
                                    "used to be good everything was great until i updated this most recent version now im on facebook on my cell it kicks me off repeatedly i try and like something it takes several times tapping the screen before it even lets me if i dont get kicked off please fix this",
                                    "0"
                                ],
                                [
                                    "38",
                                    "i cant send or read a message from facebook because the message icon has gone it replaced by a messenger icon on top so everytime i received a message i have to go to browser to see it because i dont have a messenger app and sometimes i cant even read a message at all because i dont always have a wifi connection i really hate it since ive been using mobile data sometimes hope yu can fix it soonest",
                                    "0"
                                ],
                                [
                                    "39",
                                    "app doesnt work after latest upgrade the facebook app refuses to work on my mobile data g after the latest upgrade it says it cannot connect right now",
                                    "0"
                                ],
                                [
                                    "40",
                                    "when will this app be created to automatically start at the top with new posts instead of having to scroll through days of old tweets to get to the top the only social app that does that such a headache",
                                    "0"
                                ],
                                [
                                    "41",
                                    "error i cant log in its says error occured while logging in please try again later i tried it several times restarted my wifi and phone still cant log in please fix it",
                                    "0"
                                ],
                                [
                                    "42",
                                    "video issues sometimes videos uploaded from places like vine wont load and will play but the screen will show grey fix please i dont know if others have this issue but i am on my samsung s and it is doing this",
                                    "0"
                                ],
                                [
                                    "43",
                                    "i enjoy twitter but im extremely annoyed that i cant swipe left or right through an accounts twitter pictures as easily as before now just tapping the picture takes me to the whole tweet i have to be super cautious to not accidently tap the picture while im swiping its incredibly annoying please go back to how it was before if i were to want see the whole tweet just touch the caption",
                                    "0"
                                ],
                                [
                                    "44",
                                    "having a headache because of this enough with the limits on this app okay i was trying to get rid of some tweets on my account and its telling me cannot retweet status or when i try and tweet something failed to send tweet like seriously",
                                    "0"
                                ],
                                [
                                    "45",
                                    "fix it dammit why is my push notifications not appearing i have people enabled but i only get a tweet for every minutes instead of all of them at the same time i reinstalled the app countless times but they dont appear ar all ive already missed tweets in other minute and i shouldve got notified for them all but i only got for tweet fix this update im not liking it",
                                    "0"
                                ],
                                [
                                    "46",
                                    "we have a problem so ive noticed that twitter will let me like nonspecific things until im blue in the face but liking certain specific things get me booted from the app and i have to log back in let me repeat that like certain specific things gets me logged out and i have to log back in whats going on twitter support",
                                    "0"
                                ],
                                [
                                    "47",
                                    "came here to rate this app to give stars for good optimization for android this is one of the only apps that i open and close and it actually clears fully from ram and does not use up cpu power unlike facebook and its messenger using up ram and cpu",
                                    "0"
                                ],
                                [
                                    "48",
                                    "i dont get notifications from people anymore also the number of notifications i got doesnt go away after i have checked it it kind of just stays there",
                                    "0"
                                ],
                                [
                                    "49",
                                    "the new update sucks i hate that they switched favorite to like i love twitter so much but its turning into facebook real fast i previously rated it stars but right now im rating it star due to te next update ill rate it again once the change is made until then if you want a second facebook experience feel free to download",
                                    "0"
                                ]
                            ],
                            "shape": {
                                "columns": 2,
                                "rows": 891
                            }
                        },
                        "text/html": [
                            "<div>\n",
                            "<style scoped>\n",
                            "    .dataframe tbody tr th:only-of-type {\n",
                            "        vertical-align: middle;\n",
                            "    }\n",
                            "\n",
                            "    .dataframe tbody tr th {\n",
                            "        vertical-align: top;\n",
                            "    }\n",
                            "\n",
                            "    .dataframe thead th {\n",
                            "        text-align: right;\n",
                            "    }\n",
                            "</style>\n",
                            "<table border=\"1\" class=\"dataframe\">\n",
                            "  <thead>\n",
                            "    <tr style=\"text-align: right;\">\n",
                            "      <th></th>\n",
                            "      <th>review</th>\n",
                            "      <th>polarity</th>\n",
                            "    </tr>\n",
                            "  </thead>\n",
                            "  <tbody>\n",
                            "    <tr>\n",
                            "      <th>0</th>\n",
                            "      <td>privacy at least put some option appear offlin...</td>\n",
                            "      <td>0</td>\n",
                            "    </tr>\n",
                            "    <tr>\n",
                            "      <th>1</th>\n",
                            "      <td>messenger issues ever since the last update in...</td>\n",
                            "      <td>0</td>\n",
                            "    </tr>\n",
                            "    <tr>\n",
                            "      <th>2</th>\n",
                            "      <td>profile any time my wife or anybody has more t...</td>\n",
                            "      <td>0</td>\n",
                            "    </tr>\n",
                            "    <tr>\n",
                            "      <th>3</th>\n",
                            "      <td>the new features suck for those of us who dont...</td>\n",
                            "      <td>0</td>\n",
                            "    </tr>\n",
                            "    <tr>\n",
                            "      <th>4</th>\n",
                            "      <td>forced reload on uploading pic on replying com...</td>\n",
                            "      <td>0</td>\n",
                            "    </tr>\n",
                            "    <tr>\n",
                            "      <th>...</th>\n",
                            "      <td>...</td>\n",
                            "      <td>...</td>\n",
                            "    </tr>\n",
                            "    <tr>\n",
                            "      <th>886</th>\n",
                            "      <td>loved it i loooooooooooooovvved it because it ...</td>\n",
                            "      <td>1</td>\n",
                            "    </tr>\n",
                            "    <tr>\n",
                            "      <th>887</th>\n",
                            "      <td>all time legendary game the birthday party lev...</td>\n",
                            "      <td>1</td>\n",
                            "    </tr>\n",
                            "    <tr>\n",
                            "      <th>888</th>\n",
                            "      <td>ads are way to heavy listen to the bad reviews...</td>\n",
                            "      <td>0</td>\n",
                            "    </tr>\n",
                            "    <tr>\n",
                            "      <th>889</th>\n",
                            "      <td>fun works perfectly well ads arent as annoying...</td>\n",
                            "      <td>1</td>\n",
                            "    </tr>\n",
                            "    <tr>\n",
                            "      <th>890</th>\n",
                            "      <td>theyre everywhere i see angry birds everywhere...</td>\n",
                            "      <td>1</td>\n",
                            "    </tr>\n",
                            "  </tbody>\n",
                            "</table>\n",
                            "<p>891 rows × 2 columns</p>\n",
                            "</div>"
                        ],
                        "text/plain": [
                            "                                                review  polarity\n",
                            "0    privacy at least put some option appear offlin...         0\n",
                            "1    messenger issues ever since the last update in...         0\n",
                            "2    profile any time my wife or anybody has more t...         0\n",
                            "3    the new features suck for those of us who dont...         0\n",
                            "4    forced reload on uploading pic on replying com...         0\n",
                            "..                                                 ...       ...\n",
                            "886  loved it i loooooooooooooovvved it because it ...         1\n",
                            "887  all time legendary game the birthday party lev...         1\n",
                            "888  ads are way to heavy listen to the bad reviews...         0\n",
                            "889  fun works perfectly well ads arent as annoying...         1\n",
                            "890  theyre everywhere i see angry birds everywhere...         1\n",
                            "\n",
                            "[891 rows x 2 columns]"
                        ]
                    },
                    "execution_count": 13,
                    "metadata": {},
                    "output_type": "execute_result"
                }
            ],
            "source": [
                "data_cleaned = data.drop('package_name', axis=1)\n",
                "\n",
                "def clean_text(text):\n",
                "    text = unidecode.unidecode(text)\n",
                "    text = re.sub(r'[^a-zA-Z\\s]', '', text)\n",
                "    text = text.strip().lower()\n",
                "    text = re.sub(r'\\s+', ' ', text)\n",
                "    text = re.sub(r'\\d{1,2}/\\d{1,2}/\\d{4}', 'fecha', text)\n",
                "    text = re.sub(r'[^\\x00-\\x7F]+', '', text)\n",
                "    return text\n",
                "\n",
                "data_cleaned['review'] = data_cleaned['review'].apply(clean_text)\n",
                "data_cleaned"
            ]
        },
        {
            "cell_type": "markdown",
            "metadata": {},
            "source": [
                "### --- División de Datos en Train y Test ---"
            ]
        },
        {
            "cell_type": "code",
            "execution_count": 14,
            "metadata": {},
            "outputs": [
                {
                    "name": "stdout",
                    "output_type": "stream",
                    "text": [
                        "Shape of training set: (712,)\n"
                    ]
                }
            ],
            "source": [
                "X = data_cleaned['review']\n",
                "y = data_cleaned['polarity']\n",
                "X_train, X_test, y_train, y_test = train_test_split(X, y, test_size=0.2, random_state=42)\n",
                "print(\"Shape of training set:\", X_train.shape)"
            ]
        },
        {
            "cell_type": "markdown",
            "metadata": {},
            "source": [
                "### --- Vectorización con CountVectorizer ---"
            ]
        },
        {
            "cell_type": "code",
            "execution_count": 17,
            "metadata": {},
            "outputs": [
                {
                    "name": "stdout",
                    "output_type": "stream",
                    "text": [
                        "CountVectorizer model saved.\n"
                    ]
                }
            ],
            "source": [
                "vec_model_count = CountVectorizer(stop_words='english')\n",
                "X_train_count = vec_model_count.fit_transform(X_train).toarray()\n",
                "X_test_count = vec_model_count.transform(X_test).toarray()\n",
                "\n",
                "# Definir las rutas antes de usarlas\n",
                "PROCESSED_DATA_PATH = '../data/processed/'\n",
                "VECTORIZER_PATH = '../data/processed/'\n",
                "\n",
                "pd.DataFrame(X_train_count).to_excel(f\"{PROCESSED_DATA_PATH}X_train.xlsx\", index=False)\n",
                "pd.DataFrame(X_test_count).to_excel(f\"{PROCESSED_DATA_PATH}X_test.xlsx\", index=False)\n",
                "y_train.to_excel(f\"{PROCESSED_DATA_PATH}y_train.xlsx\", index=False)\n",
                "y_test.to_excel(f\"{PROCESSED_DATA_PATH}y_test.xlsx\", index=False)\n",
                "\n",
                "with open(f\"{VECTORIZER_PATH}CountVectorizer.pkl\", \"wb\") as file:\n",
                "    pickle.dump(vec_model_count, file)\n",
                "\n",
                "print(\"CountVectorizer model saved.\")\n"
            ]
        },
        {
            "cell_type": "markdown",
            "metadata": {},
            "source": [
                "### --- Vectorización con TfidfVectorizer ---"
            ]
        },
        {
            "cell_type": "code",
            "execution_count": 18,
            "metadata": {},
            "outputs": [
                {
                    "name": "stdout",
                    "output_type": "stream",
                    "text": [
                        "TfidfVectorizer model saved.\n"
                    ]
                }
            ],
            "source": [
                "vec_model_tfidf = TfidfVectorizer(stop_words='english')\n",
                "X_train_tfidf = vec_model_tfidf.fit_transform(X_train).toarray()\n",
                "X_test_tfidf = vec_model_tfidf.transform(X_test).toarray()\n",
                "\n",
                "pd.DataFrame(X_train_tfidf).to_excel(f\"{PROCESSED_DATA_PATH}X_train_tfidf.xlsx\", index=False)\n",
                "pd.DataFrame(X_test_tfidf).to_excel(f\"{PROCESSED_DATA_PATH}X_test_tfidf.xlsx\", index=False)\n",
                "\n",
                "with open(f\"{VECTORIZER_PATH}TfidfVectorizer.pkl\", \"wb\") as file:\n",
                "    pickle.dump(vec_model_tfidf, file)\n",
                "\n",
                "print(\"TfidfVectorizer model saved.\")"
            ]
        }
    ],
    "metadata": {
        "kernelspec": {
            "display_name": "Python 3",
            "language": "python",
            "name": "python3"
        },
        "language_info": {
            "codemirror_mode": {
                "name": "ipython",
                "version": 3
            },
            "file_extension": ".py",
            "mimetype": "text/x-python",
            "name": "python",
            "nbconvert_exporter": "python",
            "pygments_lexer": "ipython3",
            "version": "3.13.1"
        },
        "orig_nbformat": 4
    },
    "nbformat": 4,
    "nbformat_minor": 2
}
